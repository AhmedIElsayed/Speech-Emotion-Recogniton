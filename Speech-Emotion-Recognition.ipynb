{
    "cells": [
        {
            "cell_type": "code",
            "execution_count": 212,
            "source": [
                "from scipy.io import wavfile\r\n",
                "import matplotlib.pyplot as plt\r\n",
                "import os\r\n",
                "import glob\r\n",
                "import numpy as np\r\n",
                "from IPython.display import Audio\r\n",
                "from scipy import signal\r\n",
                "import librosa\r\n",
                "from librosa import feature\r\n",
                "from IPython.display import Audio\r\n",
                "import librosa.display\r\n",
                "from sklearn.model_selection import train_test_split\r\n",
                "from pyAudioAnalysis import ShortTermFeatures\r\n",
                "import tensorflow as tf\r\n",
                "from tensorflow.keras import datasets, layers, models\r\n",
                "from keras.layers import Dropout\r\n",
                "from keras.datasets import fashion_mnist\r\n",
                "from sklearn.metrics import f1_score\r\n",
                "import seaborn as sn\r\n",
                "from sklearn.metrics import confusion_matrix"
            ],
            "outputs": [],
            "metadata": {}
        },
        {
            "cell_type": "code",
            "execution_count": 3,
            "source": [
                "\r\n",
                "path = \"Crema/\"\r\n",
                "dataset = []\r\n",
                "rates = []\r\n",
                "labels=[]\r\n",
                "for filename in glob.glob(os.path.join(path, '*.wav')):\r\n",
                "    if('ANG' in filename):\r\n",
                "        labels.append([1,0,0,0,0,0])\r\n",
                "    if('FEA' in filename):\r\n",
                "        labels.append([0,1,0,0,0,0])\r\n",
                "    if('SAD' in filename):\r\n",
                "        labels.append([0,0,1,0,0,0])\r\n",
                "    if('HAP' in filename):\r\n",
                "        labels.append([0,0,0,1,0,0])\r\n",
                "    if('DIS' in filename):\r\n",
                "        labels.append([0,0,0,0,1,0])\r\n",
                "    if('NEU' in filename):\r\n",
                "        labels.append([0,0,0,0,0,1])\r\n",
                "    samples, sample_rate = librosa.load(filename)\r\n",
                "    #samplerate, data = wavfile.read(filename)\r\n",
                "    dataset.append(samples)\r\n",
                "    rates.append(sample_rate)\r\n"
            ],
            "outputs": [],
            "metadata": {}
        },
        {
            "cell_type": "code",
            "execution_count": 4,
            "source": [
                "max = 0\r\n",
                "for i in range(len(dataset)):\r\n",
                "    if max<len(dataset[i]):\r\n",
                "        max = len(dataset[i])\r\n",
                "for i in range(len(dataset)):\r\n",
                "    dataset[i] =np.array(dataset[i])\r\n",
                "    dataset[i]=np.pad(dataset[i],(0,max-len(dataset[i])),'constant')\r\n",
                "    "
            ],
            "outputs": [],
            "metadata": {}
        },
        {
            "cell_type": "code",
            "execution_count": null,
            "source": [
                "\r\n",
                "for i in range(len(dataset)):\r\n",
                "        \r\n",
                "        time = np.linspace(0,len(dataset[i]) / rates[i],num = len(dataset[i]))\r\n",
                "        plt.figure(1)\r\n",
                "        # title of the plot\r\n",
                "        plt.title(\"Sound Wave\")\r\n",
                "        plt.xlabel(\"Time\")\r\n",
                "        plt.plot(time, dataset[i])\r\n",
                "        plt.show()\r\n",
                "        \r\n",
                "        if np.max(dataset[i]) == 0:\r\n",
                "            dataset[i] +=1\r\n",
                "        Audio(dataset[i],rate = rates[i])\r\n",
                "\r\n"
            ],
            "outputs": [],
            "metadata": {}
        },
        {
            "cell_type": "code",
            "execution_count": 5,
            "source": [
                "x_train,x_test,y_train,y_test = train_test_split(dataset,labels,test_size=0.3,random_state=123)\r\n",
                "x_train,x_valid,y_train,y_valid = train_test_split(x_train,y_train,test_size=0.05,random_state=123)\r\n",
                "print(np.shape(x_train))\r\n",
                "print(np.shape(x_valid))\r\n",
                "print(np.shape(x_valid))"
            ],
            "outputs": [
                {
                    "output_type": "stream",
                    "name": "stdout",
                    "text": [
                        "(4948, 110361)\n",
                        "(261, 110361)\n"
                    ]
                }
            ],
            "metadata": {}
        },
        {
            "cell_type": "code",
            "execution_count": 61,
            "source": [
                "#data augmentation(pitch_shift) for 1D feautre space \r\n",
                "x_train_pitch=np.zeros((4948*2,110361))\r\n",
                "for i in range(0,len(x_train)):\r\n",
                "    x_train_pitch[2*i]=x_train[i]\r\n",
                "    x_train_pitch[2*i+1]=librosa.effects.pitch_shift(x_train[i],22050,n_steps=4,bins_per_octave=24)\r\n",
                "print(np.shape(x_train_pitch)) "
            ],
            "outputs": [
                {
                    "output_type": "stream",
                    "name": "stdout",
                    "text": [
                        "(9896, 110361)\n"
                    ]
                }
            ],
            "metadata": {}
        },
        {
            "cell_type": "code",
            "execution_count": 46,
            "source": [
                "y_train_pitch=np.zeros((4948*2,6))\r\n",
                "for i in range (0,len(y_train)):\r\n",
                "    y_train_pitch[2*i]=y_train[i]\r\n",
                "    y_train_pitch[2*i+1]=y_train[i]\r\n",
                "    "
            ],
            "outputs": [],
            "metadata": {}
        },
        {
            "cell_type": "code",
            "execution_count": 180,
            "source": [
                "specs_x_train = []\r\n",
                "specs_x_test = []\r\n",
                "specs_x_valid = []\r\n",
                "for i in range(len(x_train)):\r\n",
                "    S_x_train = librosa.feature.melspectrogram(y=x_train[i], sr=22050, n_mels=128,fmax=8000,hop_length=int(len(x_train[i])/128)+1)\r\n",
                "    specs_x_train.append(S_x_train)\r\n",
                "    #librosa.display.specshow(librosa.power_to_db(S, ref=np.max))\r\n",
                "    #plt.show()\r\n",
                "for i in range(len(x_test)):\r\n",
                "    S_x_test = librosa.feature.melspectrogram(y=x_test[i], sr=22050, n_mels=128,fmax=8000,hop_length=int(len(x_test[i])/128)+1)\r\n",
                "    specs_x_test.append(S_x_test)\r\n",
                "    #librosa.display.specshow(librosa.power_to_db(S, ref=np.max))\r\n",
                "    #plt.show()\r\n",
                "for i in range(len(x_valid)):\r\n",
                "    S_x_valid = librosa.feature.melspectrogram(y=x_valid[i], sr=22050, n_mels=128,fmax=8000,hop_length=int(len(x_valid[i])/128)+1)\r\n",
                "    specs_x_valid.append(S_x_valid)\r\n",
                "    #librosa.display.specshow(librosa.power_to_db(S, ref=np.max))\r\n",
                "    #plt.show()\r\n"
            ],
            "outputs": [],
            "metadata": {}
        },
        {
            "cell_type": "code",
            "execution_count": 76,
            "source": [
                "featurespace_x_train = np.ones((4948*4,199))\r\n",
                "featurespace_x_test = np.zeros((4466*2,199))\r\n",
                "featurespace_x_valid = np.zeros((261*2,199))\r\n",
                "for i in range(len(x_train_pitch)):\r\n",
                "    F, f_names = ShortTermFeatures.feature_extraction(x_train_pitch[i], 22050, 0.050*22050, 0.025*22050,'false')\r\n",
                "    featurespace_x_train[2*i]=(F[0])\r\n",
                "    featurespace_x_train[2*i+1]=(F[1])\r\n",
                "for i in range(len(x_test)):\r\n",
                "    F, f_names = ShortTermFeatures.feature_extraction(x_test[i], 22050, 0.050*22050, 0.025*22050,'false')\r\n",
                "    featurespace_x_test[2*i]=(F[0])\r\n",
                "    featurespace_x_test[2*i+1]=(F[1])\r\n",
                "for i in range(len(x_valid)):\r\n",
                "    F, f_names = ShortTermFeatures.feature_extraction(x_valid[i], 22050, 0.050*22050, 0.025*22050,'false')\r\n",
                "    featurespace_x_valid[2*i]=(F[0])\r\n",
                "    featurespace_x_valid[2*i+1]=(F[1])"
            ],
            "outputs": [],
            "metadata": {}
        },
        {
            "cell_type": "code",
            "execution_count": 168,
            "source": [
                "featurespace_x_test_final = featurespace_x_test[:2233*2]\r\n",
                "featurespace_x_test_final = np.reshape(featurespace_x_test_final,(2233,199,2))\r\n",
                "print(np.shape(np.array(featurespace_x_test_final)))"
            ],
            "outputs": [
                {
                    "output_type": "stream",
                    "name": "stdout",
                    "text": [
                        "(2233, 199, 2)\n"
                    ]
                }
            ],
            "metadata": {}
        },
        {
            "cell_type": "code",
            "execution_count": null,
            "source": [
                "print(np.array(x_train_pitch[6]))\r\n",
                "\r\n",
                "print(np.shape(np.array(featurespace_x_valid)))\r\n",
                "print(np.shape(np.array(featurespace_x_test)))"
            ],
            "outputs": [],
            "metadata": {}
        },
        {
            "cell_type": "code",
            "execution_count": 185,
            "source": [
                "\r\n",
                "featurespace_x_train =np.array(featurespace_x_train).reshape(4948*2,199,2)\r\n",
                "featurespace_x_valid =np.array(featurespace_x_valid).reshape(261,199,2)\r\n",
                "model = models.Sequential()\r\n",
                "\r\n",
                "model.add(layers.Conv1D(16, kernel_size=3, activation='relu', input_shape=(199, 2)))\r\n",
                "model.add(layers.Conv1D(16, kernel_size=3, activation='relu'))\r\n",
                "model.add(layers.MaxPooling1D(pool_size=2,strides=None, padding='valid'))\r\n",
                "model.add(layers.Conv1D(32, kernel_size=3, activation='relu'))\r\n",
                "model.add(layers.Conv1D(32, kernel_size=3, activation='relu'))\r\n",
                "model.add(layers.MaxPooling1D(pool_size=2,strides=None, padding='valid'))\r\n",
                "model.add(layers.Conv1D(64, kernel_size=3, activation='relu'))\r\n",
                "model.add(layers.Conv1D(64, kernel_size=3, activation='relu'))\r\n",
                "model.add(layers.MaxPooling1D(pool_size=2,strides=None, padding='valid'))\r\n",
                "model.add(layers.Conv1D(128, kernel_size=3, activation='relu'))\r\n",
                "model.add(layers.Conv1D(128, kernel_size=3, activation='relu'))\r\n",
                "model.add(layers.MaxPooling1D(pool_size=2,strides=None, padding='valid'))\r\n",
                "model.add(layers.Flatten())\r\n",
                "model.add(layers.Dense(128, activation='relu'))\r\n",
                "model.add(layers.Dense(32, activation='relu'))\r\n",
                "model.add(layers.Dense(6,activation='softmax'))\r\n",
                "model.summary()\r\n",
                "print(np.shape(np.array(x_train)))\r\n",
                "print(np.shape(np.array(y_train)))\r\n",
                "print(np.shape(np.array(x_valid)))\r\n",
                "print(np.shape(np.array(y_valid)))"
            ],
            "outputs": [
                {
                    "output_type": "stream",
                    "name": "stdout",
                    "text": [
                        "Model: \"sequential_34\"\n",
                        "_________________________________________________________________\n",
                        "Layer (type)                 Output Shape              Param #   \n",
                        "=================================================================\n",
                        "conv1d_259 (Conv1D)          (None, 197, 16)           112       \n",
                        "_________________________________________________________________\n",
                        "conv1d_260 (Conv1D)          (None, 195, 16)           784       \n",
                        "_________________________________________________________________\n",
                        "max_pooling1d_129 (MaxPoolin (None, 97, 16)            0         \n",
                        "_________________________________________________________________\n",
                        "conv1d_261 (Conv1D)          (None, 95, 32)            1568      \n",
                        "_________________________________________________________________\n",
                        "conv1d_262 (Conv1D)          (None, 93, 32)            3104      \n",
                        "_________________________________________________________________\n",
                        "max_pooling1d_130 (MaxPoolin (None, 46, 32)            0         \n",
                        "_________________________________________________________________\n",
                        "conv1d_263 (Conv1D)          (None, 44, 64)            6208      \n",
                        "_________________________________________________________________\n",
                        "conv1d_264 (Conv1D)          (None, 42, 64)            12352     \n",
                        "_________________________________________________________________\n",
                        "max_pooling1d_131 (MaxPoolin (None, 21, 64)            0         \n",
                        "_________________________________________________________________\n",
                        "conv1d_265 (Conv1D)          (None, 19, 128)           24704     \n",
                        "_________________________________________________________________\n",
                        "conv1d_266 (Conv1D)          (None, 17, 128)           49280     \n",
                        "_________________________________________________________________\n",
                        "max_pooling1d_132 (MaxPoolin (None, 8, 128)            0         \n",
                        "_________________________________________________________________\n",
                        "flatten_32 (Flatten)         (None, 1024)              0         \n",
                        "_________________________________________________________________\n",
                        "dense_96 (Dense)             (None, 128)               131200    \n",
                        "_________________________________________________________________\n",
                        "dense_97 (Dense)             (None, 32)                4128      \n",
                        "_________________________________________________________________\n",
                        "dense_98 (Dense)             (None, 6)                 198       \n",
                        "=================================================================\n",
                        "Total params: 233,638\n",
                        "Trainable params: 233,638\n",
                        "Non-trainable params: 0\n",
                        "_________________________________________________________________\n",
                        "(4948, 110361)\n",
                        "(4948, 6)\n",
                        "(261, 110361)\n",
                        "(261, 6)\n"
                    ]
                }
            ],
            "metadata": {}
        },
        {
            "cell_type": "code",
            "execution_count": 186,
            "source": [
                "def scheduler(epoch,lr):\r\n",
                "    if epoch < 10:\r\n",
                "        return lr\r\n",
                "    else:\r\n",
                "        print(lr)\r\n",
                "        return lr*tf.math.exp(-0.1)\r\n",
                "model.compile(optimizer='adam',\r\n",
                "              loss=tf.keras.losses.CategoricalCrossentropy(from_logits=True),\r\n",
                "              metrics=['accuracy'])\r\n",
                "#round(model.optimizer.lr.numpy(),5)\r\n",
                "callback = tf.keras.callbacks.LearningRateScheduler(scheduler)\r\n",
                "history = model.fit(np.array(featurespace_x_train), np.array(y_train_pitch), epochs=60,callbacks=[callback],batch_size = 128, \r\n",
                "                    validation_data=(np.array(featurespace_x_valid), np.array(y_valid)))"
            ],
            "outputs": [
                {
                    "output_type": "stream",
                    "name": "stdout",
                    "text": [
                        "Epoch 1/60\n",
                        "78/78 [==============================] - 5s 51ms/step - loss: 1.7476 - accuracy: 0.2375 - val_loss: 1.6872 - val_accuracy: 0.2720\n",
                        "Epoch 2/60\n",
                        "78/78 [==============================] - 4s 47ms/step - loss: 1.6417 - accuracy: 0.3217 - val_loss: 1.5828 - val_accuracy: 0.3180\n",
                        "Epoch 3/60\n",
                        "78/78 [==============================] - 4s 47ms/step - loss: 1.5375 - accuracy: 0.3750 - val_loss: 1.4951 - val_accuracy: 0.3716\n",
                        "Epoch 4/60\n",
                        "78/78 [==============================] - 4s 48ms/step - loss: 1.4342 - accuracy: 0.4239 - val_loss: 1.4525 - val_accuracy: 0.4100\n",
                        "Epoch 5/60\n",
                        "78/78 [==============================] - 4s 51ms/step - loss: 1.3815 - accuracy: 0.4469 - val_loss: 1.3881 - val_accuracy: 0.4521\n",
                        "Epoch 6/60\n",
                        "78/78 [==============================] - 4s 51ms/step - loss: 1.3542 - accuracy: 0.4602 - val_loss: 1.3588 - val_accuracy: 0.4674\n",
                        "Epoch 7/60\n",
                        "78/78 [==============================] - 4s 49ms/step - loss: 1.3186 - accuracy: 0.4732 - val_loss: 1.3432 - val_accuracy: 0.4789\n",
                        "Epoch 8/60\n",
                        "78/78 [==============================] - 3s 41ms/step - loss: 1.3048 - accuracy: 0.4780 - val_loss: 1.3438 - val_accuracy: 0.4559\n",
                        "Epoch 9/60\n",
                        "78/78 [==============================] - 3s 38ms/step - loss: 1.2667 - accuracy: 0.4995 - val_loss: 1.3705 - val_accuracy: 0.4789\n",
                        "Epoch 10/60\n",
                        "78/78 [==============================] - 3s 37ms/step - loss: 1.2502 - accuracy: 0.5062 - val_loss: 1.3373 - val_accuracy: 0.5134\n",
                        "Epoch 11/60\n",
                        "0.0010000000474974513\n",
                        "78/78 [==============================] - 3s 41ms/step - loss: 1.2143 - accuracy: 0.5227 - val_loss: 1.3090 - val_accuracy: 0.5096\n",
                        "Epoch 12/60\n",
                        "0.0009048374486155808\n",
                        "78/78 [==============================] - 4s 46ms/step - loss: 1.1835 - accuracy: 0.5364 - val_loss: 1.3508 - val_accuracy: 0.5134\n",
                        "Epoch 13/60\n",
                        "0.0008187307976186275\n",
                        "78/78 [==============================] - 3s 37ms/step - loss: 1.1543 - accuracy: 0.5507 - val_loss: 1.3919 - val_accuracy: 0.4713\n",
                        "Epoch 14/60\n",
                        "0.0007408182718791068\n",
                        "78/78 [==============================] - 3s 38ms/step - loss: 1.1252 - accuracy: 0.5593 - val_loss: 1.3779 - val_accuracy: 0.4521\n",
                        "Epoch 15/60\n",
                        "0.0006703201215714216\n",
                        "78/78 [==============================] - 3s 38ms/step - loss: 1.0920 - accuracy: 0.5732 - val_loss: 1.4172 - val_accuracy: 0.4713\n",
                        "Epoch 16/60\n",
                        "0.0006065307534299791\n",
                        "78/78 [==============================] - 3s 38ms/step - loss: 1.0648 - accuracy: 0.5871 - val_loss: 1.4803 - val_accuracy: 0.4330\n",
                        "Epoch 17/60\n",
                        "0.0005488117458298802\n",
                        "78/78 [==============================] - 3s 41ms/step - loss: 1.0396 - accuracy: 0.5968 - val_loss: 1.4598 - val_accuracy: 0.4674\n",
                        "Epoch 18/60\n",
                        "0.0004965853877365589\n",
                        "78/78 [==============================] - 3s 39ms/step - loss: 1.0034 - accuracy: 0.6111 - val_loss: 1.4861 - val_accuracy: 0.4444\n",
                        "Epoch 19/60\n",
                        "0.0004493290325626731\n",
                        "78/78 [==============================] - 3s 39ms/step - loss: 0.9752 - accuracy: 0.6266 - val_loss: 1.5313 - val_accuracy: 0.4444\n",
                        "Epoch 20/60\n",
                        "0.0004065697139594704\n",
                        "78/78 [==============================] - 3s 38ms/step - loss: 0.9481 - accuracy: 0.6332 - val_loss: 1.5372 - val_accuracy: 0.4483\n",
                        "Epoch 21/60\n",
                        "0.000367879489203915\n",
                        "78/78 [==============================] - 3s 39ms/step - loss: 0.9288 - accuracy: 0.6408 - val_loss: 1.5792 - val_accuracy: 0.4138\n",
                        "Epoch 22/60\n",
                        "0.0003328711318317801\n",
                        "78/78 [==============================] - 3s 40ms/step - loss: 0.8921 - accuracy: 0.6609 - val_loss: 1.6124 - val_accuracy: 0.4100\n",
                        "Epoch 23/60\n",
                        "0.000301194260828197\n",
                        "78/78 [==============================] - 3s 41ms/step - loss: 0.8701 - accuracy: 0.6682 - val_loss: 1.6525 - val_accuracy: 0.4176\n",
                        "Epoch 24/60\n",
                        "0.0002725318481680006\n",
                        "78/78 [==============================] - 3s 41ms/step - loss: 0.8449 - accuracy: 0.6787 - val_loss: 1.6841 - val_accuracy: 0.4215\n",
                        "Epoch 25/60\n",
                        "0.0002465970173943788\n",
                        "78/78 [==============================] - 3s 38ms/step - loss: 0.8250 - accuracy: 0.6852 - val_loss: 1.7324 - val_accuracy: 0.4291\n",
                        "Epoch 26/60\n",
                        "0.00022313020599540323\n",
                        "78/78 [==============================] - 3s 38ms/step - loss: 0.8081 - accuracy: 0.6923 - val_loss: 1.7506 - val_accuracy: 0.4100\n",
                        "Epoch 27/60\n",
                        "0.0002018965606112033\n",
                        "78/78 [==============================] - 3s 39ms/step - loss: 0.7874 - accuracy: 0.7011 - val_loss: 1.7599 - val_accuracy: 0.4100\n",
                        "Epoch 28/60\n",
                        "0.00018268356507178396\n",
                        "78/78 [==============================] - 3s 40ms/step - loss: 0.7668 - accuracy: 0.7113 - val_loss: 1.8097 - val_accuracy: 0.4023\n",
                        "Epoch 29/60\n",
                        "0.00016529893036931753\n",
                        "78/78 [==============================] - 3s 39ms/step - loss: 0.7507 - accuracy: 0.7164 - val_loss: 1.8076 - val_accuracy: 0.4215\n",
                        "Epoch 30/60\n",
                        "0.00014956865925341845\n",
                        "78/78 [==============================] - 3s 39ms/step - loss: 0.7364 - accuracy: 0.7253 - val_loss: 1.8448 - val_accuracy: 0.4253\n",
                        "Epoch 31/60\n",
                        "0.000135335314553231\n",
                        "78/78 [==============================] - 3s 40ms/step - loss: 0.7243 - accuracy: 0.7243 - val_loss: 1.8713 - val_accuracy: 0.4215\n",
                        "Epoch 32/60\n",
                        "0.00012245646212249994\n",
                        "78/78 [==============================] - 3s 40ms/step - loss: 0.7087 - accuracy: 0.7342 - val_loss: 1.8968 - val_accuracy: 0.4215\n",
                        "Epoch 33/60\n",
                        "0.00011080319382017478\n",
                        "78/78 [==============================] - 3s 41ms/step - loss: 0.6973 - accuracy: 0.7407 - val_loss: 1.8989 - val_accuracy: 0.4291\n",
                        "Epoch 34/60\n",
                        "0.00010025887604570016\n",
                        "78/78 [==============================] - 3s 39ms/step - loss: 0.6868 - accuracy: 0.7442 - val_loss: 1.9377 - val_accuracy: 0.4100\n",
                        "Epoch 35/60\n",
                        "9.071798558579758e-05\n",
                        "78/78 [==============================] - 3s 41ms/step - loss: 0.6776 - accuracy: 0.7469 - val_loss: 1.9571 - val_accuracy: 0.4253\n",
                        "Epoch 36/60\n",
                        "8.208502549678087e-05\n",
                        "78/78 [==============================] - 3s 43ms/step - loss: 0.6686 - accuracy: 0.7512 - val_loss: 1.9670 - val_accuracy: 0.4138\n",
                        "Epoch 37/60\n",
                        "7.427360105793923e-05\n",
                        "78/78 [==============================] - 3s 43ms/step - loss: 0.6605 - accuracy: 0.7547 - val_loss: 1.9980 - val_accuracy: 0.4138\n",
                        "Epoch 38/60\n",
                        "6.720553210470825e-05\n",
                        "78/78 [==============================] - 3s 39ms/step - loss: 0.6537 - accuracy: 0.7591 - val_loss: 2.0163 - val_accuracy: 0.3870\n",
                        "Epoch 39/60\n",
                        "6.081008177716285e-05\n",
                        "78/78 [==============================] - 3s 40ms/step - loss: 0.6492 - accuracy: 0.7627 - val_loss: 2.0299 - val_accuracy: 0.4100\n",
                        "Epoch 40/60\n",
                        "5.502323983819224e-05\n",
                        "78/78 [==============================] - 3s 40ms/step - loss: 0.6415 - accuracy: 0.7639 - val_loss: 2.0296 - val_accuracy: 0.4176\n",
                        "Epoch 41/60\n",
                        "4.9787086027208716e-05\n",
                        "78/78 [==============================] - 3s 39ms/step - loss: 0.6369 - accuracy: 0.7671 - val_loss: 2.0499 - val_accuracy: 0.4215\n",
                        "Epoch 42/60\n",
                        "4.504921889747493e-05\n",
                        "78/78 [==============================] - 3s 41ms/step - loss: 0.6314 - accuracy: 0.7686 - val_loss: 2.0677 - val_accuracy: 0.4253\n",
                        "Epoch 43/60\n",
                        "4.076222103321925e-05\n",
                        "78/78 [==============================] - 3s 41ms/step - loss: 0.6275 - accuracy: 0.7687 - val_loss: 2.0741 - val_accuracy: 0.4176\n",
                        "Epoch 44/60\n",
                        "3.6883182474412024e-05\n",
                        "78/78 [==============================] - 3s 38ms/step - loss: 0.6236 - accuracy: 0.7724 - val_loss: 2.0749 - val_accuracy: 0.4061\n",
                        "Epoch 45/60\n",
                        "3.337328234920278e-05\n",
                        "78/78 [==============================] - 3s 43ms/step - loss: 0.6199 - accuracy: 0.7719 - val_loss: 2.0955 - val_accuracy: 0.4215\n",
                        "Epoch 46/60\n",
                        "3.0197394153219648e-05\n",
                        "78/78 [==============================] - 3s 44ms/step - loss: 0.6165 - accuracy: 0.7756 - val_loss: 2.1093 - val_accuracy: 0.4215\n",
                        "Epoch 47/60\n",
                        "2.732373286562506e-05\n",
                        "78/78 [==============================] - 4s 47ms/step - loss: 0.6147 - accuracy: 0.7739 - val_loss: 2.1034 - val_accuracy: 0.4061\n",
                        "Epoch 48/60\n",
                        "2.4723536625970155e-05\n",
                        "78/78 [==============================] - 3s 41ms/step - loss: 0.6117 - accuracy: 0.7772 - val_loss: 2.1114 - val_accuracy: 0.4176\n",
                        "Epoch 49/60\n",
                        "2.23707811528584e-05\n",
                        "78/78 [==============================] - 3s 40ms/step - loss: 0.6090 - accuracy: 0.7791 - val_loss: 2.1185 - val_accuracy: 0.4100\n",
                        "Epoch 50/60\n",
                        "2.024191962846089e-05\n",
                        "78/78 [==============================] - 3s 39ms/step - loss: 0.6068 - accuracy: 0.7804 - val_loss: 2.1171 - val_accuracy: 0.4061\n",
                        "Epoch 51/60\n",
                        "1.83156462298939e-05\n",
                        "78/78 [==============================] - 3s 41ms/step - loss: 0.6049 - accuracy: 0.7811 - val_loss: 2.1273 - val_accuracy: 0.4176\n",
                        "Epoch 52/60\n",
                        "1.6572681488469243e-05\n",
                        "78/78 [==============================] - 3s 40ms/step - loss: 0.6031 - accuracy: 0.7820 - val_loss: 2.1383 - val_accuracy: 0.4138\n",
                        "Epoch 53/60\n",
                        "1.4995582205301616e-05\n",
                        "78/78 [==============================] - 3s 43ms/step - loss: 0.6017 - accuracy: 0.7812 - val_loss: 2.1386 - val_accuracy: 0.4138\n",
                        "Epoch 54/60\n",
                        "1.3568564099841751e-05\n",
                        "78/78 [==============================] - 3s 36ms/step - loss: 0.6002 - accuracy: 0.7817 - val_loss: 2.1430 - val_accuracy: 0.4138\n",
                        "Epoch 55/60\n",
                        "1.2277344467293005e-05\n",
                        "78/78 [==============================] - 3s 38ms/step - loss: 0.5995 - accuracy: 0.7826 - val_loss: 2.1435 - val_accuracy: 0.4100\n",
                        "Epoch 56/60\n",
                        "1.110900120693259e-05\n",
                        "78/78 [==============================] - 4s 58ms/step - loss: 0.5980 - accuracy: 0.7835 - val_loss: 2.1485 - val_accuracy: 0.4176\n",
                        "Epoch 57/60\n",
                        "1.0051840035885107e-05\n",
                        "78/78 [==============================] - 3s 42ms/step - loss: 0.5968 - accuracy: 0.7847 - val_loss: 2.1522 - val_accuracy: 0.4138\n",
                        "Epoch 58/60\n",
                        "9.095280802284833e-06\n",
                        "78/78 [==============================] - 3s 35ms/step - loss: 0.5962 - accuracy: 0.7835 - val_loss: 2.1544 - val_accuracy: 0.4061\n",
                        "Epoch 59/60\n",
                        "8.229750164900906e-06\n",
                        "78/78 [==============================] - 3s 34ms/step - loss: 0.5950 - accuracy: 0.7852 - val_loss: 2.1575 - val_accuracy: 0.4138\n",
                        "Epoch 60/60\n",
                        "7.4465860961936414e-06\n",
                        "78/78 [==============================] - 3s 34ms/step - loss: 0.5943 - accuracy: 0.7833 - val_loss: 2.1574 - val_accuracy: 0.4061\n"
                    ]
                }
            ],
            "metadata": {}
        },
        {
            "cell_type": "code",
            "execution_count": 126,
            "source": [
                "plt.plot(history.history['accuracy'], label='accuracy')\r\n",
                "plt.plot(history.history['val_accuracy'], label = 'val_accuracy')\r\n",
                "plt.xlabel('Epoch')\r\n",
                "plt.ylabel('Accuracy')\r\n",
                "plt.ylim([0.1, 1])\r\n",
                "plt.legend(loc='lower right')"
            ],
            "outputs": [
                {
                    "output_type": "execute_result",
                    "data": {
                        "text/plain": [
                            "<matplotlib.legend.Legend at 0x164a5e11070>"
                        ]
                    },
                    "metadata": {},
                    "execution_count": 126
                },
                {
                    "output_type": "display_data",
                    "data": {
                        "text/plain": [
                            "<Figure size 432x288 with 1 Axes>"
                        ],
                        "image/png": "[encoded data removed]"
                    },
                    "metadata": {
                        "needs_background": "light"
                    }
                }
            ],
            "metadata": {}
        },
        {
            "cell_type": "code",
            "execution_count": 215,
            "source": [
                "specs_x_train =np.array(specs_x_train).reshape(4948,128, 128,1)\r\n",
                "specs_x_valid =np.array(specs_x_valid).reshape(261,128, 128,1)\r\n",
                "model2D = models.Sequential()\r\n",
                "\r\n",
                "model2D.add(layers.Conv2D(16, kernel_size=(5,5), activation='relu', input_shape=(128, 128,1)))\r\n",
                "model2D.add(layers.Conv2D(16, kernel_size=(3,3), activation='relu'))\r\n",
                "model2D.add(layers.MaxPooling2D(pool_size=(2,2),strides=2, padding='valid'))\r\n",
                "model2D.add(layers.Conv2D(32, kernel_size=(3,3), activation='relu'))\r\n",
                "model2D.add(layers.Conv2D(32, kernel_size=(3,3), activation='relu'))\r\n",
                "model2D.add(layers.MaxPooling2D(pool_size=(2,2),strides=2, padding='valid'))\r\n",
                "model2D.add(layers.Conv2D(64, kernel_size=(3,3), activation='relu'))\r\n",
                "model2D.add(layers.Conv2D(64, kernel_size=(3,3), activation='relu'))\r\n",
                "model2D.add(layers.MaxPooling2D(pool_size=(2,2),strides=None, padding='valid'))\r\n",
                "model2D.add(layers.Conv2D(128, kernel_size=(3,3), activation='relu'))\r\n",
                "model2D.add(layers.Conv2D(128, kernel_size=(3,3), activation='relu'))\r\n",
                "model2D.add(layers.MaxPooling2D(pool_size=(2,2),strides=None, padding='valid'))\r\n",
                "\r\n",
                "model2D.add(layers.Flatten())\r\n",
                "model2D.add(layers.Dense(256, activation='relu'))\r\n",
                "model2D.add(layers.Dense(64, activation='relu'))\r\n",
                "model2D.add(layers.Dense(6,activation='softmax'))\r\n",
                "model2D.summary()\r\n",
                "print(np.shape(np.array(specs_x_train)))\r\n",
                "print(np.shape(np.array(y_train)))\r\n",
                "print(np.shape(np.array(specs_x_valid)))\r\n",
                "print(np.shape(np.array(y_valid)))"
            ],
            "outputs": [
                {
                    "output_type": "stream",
                    "name": "stdout",
                    "text": [
                        "Model: \"sequential_36\"\n",
                        "_________________________________________________________________\n",
                        "Layer (type)                 Output Shape              Param #   \n",
                        "=================================================================\n",
                        "conv2d_38 (Conv2D)           (None, 124, 124, 16)      416       \n",
                        "_________________________________________________________________\n",
                        "conv2d_39 (Conv2D)           (None, 122, 122, 16)      2320      \n",
                        "_________________________________________________________________\n",
                        "max_pooling2d_19 (MaxPooling (None, 61, 61, 16)        0         \n",
                        "_________________________________________________________________\n",
                        "conv2d_40 (Conv2D)           (None, 59, 59, 32)        4640      \n",
                        "_________________________________________________________________\n",
                        "conv2d_41 (Conv2D)           (None, 57, 57, 32)        9248      \n",
                        "_________________________________________________________________\n",
                        "max_pooling2d_20 (MaxPooling (None, 28, 28, 32)        0         \n",
                        "_________________________________________________________________\n",
                        "conv2d_42 (Conv2D)           (None, 26, 26, 64)        18496     \n",
                        "_________________________________________________________________\n",
                        "conv2d_43 (Conv2D)           (None, 24, 24, 64)        36928     \n",
                        "_________________________________________________________________\n",
                        "max_pooling2d_21 (MaxPooling (None, 12, 12, 64)        0         \n",
                        "_________________________________________________________________\n",
                        "conv2d_44 (Conv2D)           (None, 10, 10, 128)       73856     \n",
                        "_________________________________________________________________\n",
                        "conv2d_45 (Conv2D)           (None, 8, 8, 128)         147584    \n",
                        "_________________________________________________________________\n",
                        "max_pooling2d_22 (MaxPooling (None, 4, 4, 128)         0         \n",
                        "_________________________________________________________________\n",
                        "flatten_34 (Flatten)         (None, 2048)              0         \n",
                        "_________________________________________________________________\n",
                        "dense_102 (Dense)            (None, 256)               524544    \n",
                        "_________________________________________________________________\n",
                        "dense_103 (Dense)            (None, 64)                16448     \n",
                        "_________________________________________________________________\n",
                        "dense_104 (Dense)            (None, 6)                 390       \n",
                        "=================================================================\n",
                        "Total params: 834,870\n",
                        "Trainable params: 834,870\n",
                        "Non-trainable params: 0\n",
                        "_________________________________________________________________\n",
                        "(4948, 128, 128, 1)\n",
                        "(4948, 6)\n",
                        "(261, 128, 128, 1)\n",
                        "(261, 6)\n"
                    ]
                }
            ],
            "metadata": {}
        },
        {
            "cell_type": "code",
            "execution_count": 216,
            "source": [
                "def scheduler(epoch,lr):\r\n",
                "    if epoch < 10:\r\n",
                "        return lr\r\n",
                "    else:\r\n",
                "        print(lr)\r\n",
                "        return lr*tf.math.exp(-0.1)\r\n",
                "model2D.compile(optimizer='adam',\r\n",
                "              loss=tf.keras.losses.CategoricalCrossentropy(from_logits=True),\r\n",
                "              metrics=['accuracy'])\r\n",
                "callback = tf.keras.callbacks.LearningRateScheduler(scheduler)\r\n",
                "history2D = model2D.fit(np.array(specs_x_train), np.array(y_train), epochs=50,callbacks=[callback],batch_size = 128, \r\n",
                "                    validation_data=(np.array(specs_x_valid), np.array(y_valid)))"
            ],
            "outputs": [
                {
                    "output_type": "stream",
                    "name": "stdout",
                    "text": [
                        "Epoch 1/50\n"
                    ]
                },
                {
                    "output_type": "stream",
                    "name": "stderr",
                    "text": [
                        "C:\\Users\\YAHYA IHAB\\AppData\\Local\\Packages\\PythonSoftwareFoundation.Python.3.9_qbz5n2kfra8p0\\LocalCache\\local-packages\\Python39\\site-packages\\tensorflow\\python\\keras\\backend.py:4869: UserWarning: \"`categorical_crossentropy` received `from_logits=True`, but the `output` argument was produced by a sigmoid or softmax activation and thus does not represent logits. Was this intended?\"\n",
                        "  warnings.warn(\n"
                    ]
                },
                {
                    "output_type": "stream",
                    "name": "stdout",
                    "text": [
                        "39/39 [==============================] - 93s 2s/step - loss: 1.6727 - accuracy: 0.3211 - val_loss: 1.8053 - val_accuracy: 0.3180\n",
                        "Epoch 2/50\n",
                        "39/39 [==============================] - 90s 2s/step - loss: 1.5359 - accuracy: 0.3723 - val_loss: 1.5197 - val_accuracy: 0.3946\n",
                        "Epoch 3/50\n",
                        "39/39 [==============================] - 88s 2s/step - loss: 1.4478 - accuracy: 0.4068 - val_loss: 1.4773 - val_accuracy: 0.4368\n",
                        "Epoch 4/50\n",
                        "39/39 [==============================] - 87s 2s/step - loss: 1.4298 - accuracy: 0.4224 - val_loss: 1.4822 - val_accuracy: 0.3870\n",
                        "Epoch 5/50\n",
                        "39/39 [==============================] - 85s 2s/step - loss: 1.3952 - accuracy: 0.4339 - val_loss: 1.4037 - val_accuracy: 0.4368\n",
                        "Epoch 6/50\n",
                        "39/39 [==============================] - 85s 2s/step - loss: 1.3406 - accuracy: 0.4545 - val_loss: 1.3947 - val_accuracy: 0.4406\n",
                        "Epoch 7/50\n",
                        "39/39 [==============================] - 82s 2s/step - loss: 1.3135 - accuracy: 0.4697 - val_loss: 1.3858 - val_accuracy: 0.4636\n",
                        "Epoch 8/50\n",
                        "39/39 [==============================] - 69s 2s/step - loss: 1.2993 - accuracy: 0.4790 - val_loss: 1.5243 - val_accuracy: 0.4598\n",
                        "Epoch 9/50\n",
                        "39/39 [==============================] - 68s 2s/step - loss: 1.2679 - accuracy: 0.4885 - val_loss: 1.3754 - val_accuracy: 0.4368\n",
                        "Epoch 10/50\n",
                        "39/39 [==============================] - 68s 2s/step - loss: 1.2081 - accuracy: 0.5224 - val_loss: 1.4637 - val_accuracy: 0.4559\n",
                        "Epoch 11/50\n",
                        "0.0010000000474974513\n",
                        "39/39 [==============================] - 68s 2s/step - loss: 1.1956 - accuracy: 0.5356 - val_loss: 1.4935 - val_accuracy: 0.4866\n",
                        "Epoch 12/50\n",
                        "0.0009048374486155808\n",
                        "39/39 [==============================] - 69s 2s/step - loss: 1.1399 - accuracy: 0.5499 - val_loss: 1.5524 - val_accuracy: 0.4598\n",
                        "Epoch 13/50\n",
                        "0.0008187307976186275\n",
                        "39/39 [==============================] - 68s 2s/step - loss: 1.1237 - accuracy: 0.5635 - val_loss: 1.4833 - val_accuracy: 0.4674\n",
                        "Epoch 14/50\n",
                        "0.0007408182718791068\n",
                        "39/39 [==============================] - 68s 2s/step - loss: 1.0631 - accuracy: 0.5845 - val_loss: 1.5177 - val_accuracy: 0.4559\n",
                        "Epoch 15/50\n",
                        "0.0006703201215714216\n",
                        "39/39 [==============================] - 68s 2s/step - loss: 1.0105 - accuracy: 0.5950 - val_loss: 1.5831 - val_accuracy: 0.4713\n",
                        "Epoch 16/50\n",
                        "0.0006065307534299791\n",
                        "39/39 [==============================] - 69s 2s/step - loss: 0.9737 - accuracy: 0.6255 - val_loss: 1.6538 - val_accuracy: 0.4253\n",
                        "Epoch 17/50\n",
                        "0.0005488117458298802\n",
                        "39/39 [==============================] - 68s 2s/step - loss: 0.9204 - accuracy: 0.6425 - val_loss: 1.7496 - val_accuracy: 0.4828\n",
                        "Epoch 18/50\n",
                        "0.0004965853877365589\n",
                        "39/39 [==============================] - 69s 2s/step - loss: 0.8614 - accuracy: 0.6724 - val_loss: 1.9293 - val_accuracy: 0.4521\n",
                        "Epoch 19/50\n",
                        "0.0004493290325626731\n",
                        "39/39 [==============================] - 69s 2s/step - loss: 0.8178 - accuracy: 0.6904 - val_loss: 2.0260 - val_accuracy: 0.4598\n",
                        "Epoch 20/50\n",
                        "0.0004065697139594704\n",
                        "39/39 [==============================] - 68s 2s/step - loss: 0.7741 - accuracy: 0.7084 - val_loss: 2.3422 - val_accuracy: 0.4521\n",
                        "Epoch 21/50\n",
                        "0.000367879489203915\n",
                        "39/39 [==============================] - 69s 2s/step - loss: 0.7339 - accuracy: 0.7241 - val_loss: 2.2301 - val_accuracy: 0.4713\n",
                        "Epoch 22/50\n",
                        "0.0003328711318317801\n",
                        "39/39 [==============================] - 68s 2s/step - loss: 0.7149 - accuracy: 0.7391 - val_loss: 2.1118 - val_accuracy: 0.4368\n",
                        "Epoch 23/50\n",
                        "0.000301194260828197\n",
                        "39/39 [==============================] - 69s 2s/step - loss: 0.7138 - accuracy: 0.7441 - val_loss: 2.1330 - val_accuracy: 0.4789\n",
                        "Epoch 24/50\n",
                        "0.0002725318481680006\n",
                        "39/39 [==============================] - 68s 2s/step - loss: 0.6517 - accuracy: 0.7635 - val_loss: 2.3108 - val_accuracy: 0.4674\n",
                        "Epoch 25/50\n",
                        "0.0002465970173943788\n",
                        "39/39 [==============================] - 69s 2s/step - loss: 0.6356 - accuracy: 0.7680 - val_loss: 2.5051 - val_accuracy: 0.4751\n",
                        "Epoch 26/50\n",
                        "0.00022313020599540323\n",
                        "39/39 [==============================] - 68s 2s/step - loss: 0.5903 - accuracy: 0.7868 - val_loss: 2.5731 - val_accuracy: 0.4713\n",
                        "Epoch 27/50\n",
                        "0.0002018965606112033\n",
                        "39/39 [==============================] - 69s 2s/step - loss: 0.5466 - accuracy: 0.8009 - val_loss: 2.7814 - val_accuracy: 0.4636\n",
                        "Epoch 28/50\n",
                        "0.00018268356507178396\n",
                        "39/39 [==============================] - 69s 2s/step - loss: 0.5211 - accuracy: 0.8112 - val_loss: 2.8398 - val_accuracy: 0.4598\n",
                        "Epoch 29/50\n",
                        "0.00016529893036931753\n",
                        "39/39 [==============================] - 69s 2s/step - loss: 0.4997 - accuracy: 0.8191 - val_loss: 3.2248 - val_accuracy: 0.4598\n",
                        "Epoch 30/50\n",
                        "0.00014956865925341845\n",
                        "39/39 [==============================] - 69s 2s/step - loss: 0.4865 - accuracy: 0.8254 - val_loss: 3.3106 - val_accuracy: 0.4521\n",
                        "Epoch 31/50\n",
                        "0.000135335314553231\n",
                        "39/39 [==============================] - 68s 2s/step - loss: 0.4672 - accuracy: 0.8365 - val_loss: 3.4323 - val_accuracy: 0.4483\n",
                        "Epoch 32/50\n",
                        "0.00012245646212249994\n",
                        "39/39 [==============================] - 68s 2s/step - loss: 0.4467 - accuracy: 0.8418 - val_loss: 3.7622 - val_accuracy: 0.4636\n",
                        "Epoch 33/50\n",
                        "0.00011080319382017478\n",
                        "39/39 [==============================] - 68s 2s/step - loss: 0.4309 - accuracy: 0.8500 - val_loss: 3.8142 - val_accuracy: 0.4406\n",
                        "Epoch 34/50\n",
                        "0.00010025887604570016\n",
                        "39/39 [==============================] - 69s 2s/step - loss: 0.4301 - accuracy: 0.8508 - val_loss: 4.0514 - val_accuracy: 0.4521\n",
                        "Epoch 35/50\n",
                        "9.071798558579758e-05\n",
                        "39/39 [==============================] - 68s 2s/step - loss: 0.4112 - accuracy: 0.8577 - val_loss: 4.0408 - val_accuracy: 0.4444\n",
                        "Epoch 36/50\n",
                        "8.208502549678087e-05\n",
                        "39/39 [==============================] - 69s 2s/step - loss: 0.3973 - accuracy: 0.8620 - val_loss: 4.1593 - val_accuracy: 0.4559\n",
                        "Epoch 37/50\n",
                        "7.427360105793923e-05\n",
                        "39/39 [==============================] - 68s 2s/step - loss: 0.3811 - accuracy: 0.8694 - val_loss: 4.1607 - val_accuracy: 0.4636\n",
                        "Epoch 38/50\n",
                        "6.720553210470825e-05\n",
                        "39/39 [==============================] - 69s 2s/step - loss: 0.3722 - accuracy: 0.8705 - val_loss: 4.4817 - val_accuracy: 0.4521\n",
                        "Epoch 39/50\n",
                        "6.081008177716285e-05\n",
                        "39/39 [==============================] - 68s 2s/step - loss: 0.3634 - accuracy: 0.8771 - val_loss: 4.5319 - val_accuracy: 0.4559\n",
                        "Epoch 40/50\n",
                        "5.502323983819224e-05\n",
                        "39/39 [==============================] - 68s 2s/step - loss: 0.3553 - accuracy: 0.8802 - val_loss: 4.5610 - val_accuracy: 0.4559\n",
                        "Epoch 41/50\n",
                        "4.9787086027208716e-05\n",
                        "39/39 [==============================] - 69s 2s/step - loss: 0.3477 - accuracy: 0.8828 - val_loss: 4.7309 - val_accuracy: 0.4559\n",
                        "Epoch 42/50\n",
                        "4.504921889747493e-05\n",
                        "39/39 [==============================] - 68s 2s/step - loss: 0.3397 - accuracy: 0.8880 - val_loss: 4.8801 - val_accuracy: 0.4559\n",
                        "Epoch 43/50\n",
                        "4.076222103321925e-05\n",
                        "39/39 [==============================] - 69s 2s/step - loss: 0.3340 - accuracy: 0.8895 - val_loss: 4.8765 - val_accuracy: 0.4636\n",
                        "Epoch 44/50\n",
                        "3.6883182474412024e-05\n",
                        "39/39 [==============================] - 68s 2s/step - loss: 0.3288 - accuracy: 0.8868 - val_loss: 4.9720 - val_accuracy: 0.4598\n",
                        "Epoch 45/50\n",
                        "3.337328234920278e-05\n",
                        "39/39 [==============================] - 69s 2s/step - loss: 0.3227 - accuracy: 0.8941 - val_loss: 5.1750 - val_accuracy: 0.4598\n",
                        "Epoch 46/50\n",
                        "3.0197394153219648e-05\n",
                        "39/39 [==============================] - 69s 2s/step - loss: 0.3199 - accuracy: 0.8933 - val_loss: 5.1262 - val_accuracy: 0.4559\n",
                        "Epoch 47/50\n",
                        "2.732373286562506e-05\n",
                        "39/39 [==============================] - 69s 2s/step - loss: 0.3147 - accuracy: 0.8955 - val_loss: 5.2963 - val_accuracy: 0.4598\n",
                        "Epoch 48/50\n",
                        "2.4723536625970155e-05\n",
                        "39/39 [==============================] - 69s 2s/step - loss: 0.3112 - accuracy: 0.8961 - val_loss: 5.4207 - val_accuracy: 0.4598\n",
                        "Epoch 49/50\n",
                        "2.23707811528584e-05\n",
                        "39/39 [==============================] - 69s 2s/step - loss: 0.3081 - accuracy: 0.8994 - val_loss: 5.3340 - val_accuracy: 0.4444\n",
                        "Epoch 50/50\n",
                        "2.024191962846089e-05\n",
                        "39/39 [==============================] - 68s 2s/step - loss: 0.3057 - accuracy: 0.8981 - val_loss: 5.5088 - val_accuracy: 0.4483\n"
                    ]
                }
            ],
            "metadata": {}
        },
        {
            "cell_type": "code",
            "execution_count": 217,
            "source": [
                "plt.plot(history.history['accuracy'], label='accuracy')\r\n",
                "plt.plot(history.history['val_accuracy'], label = 'val_accuracy')\r\n",
                "plt.xlabel('Epoch')\r\n",
                "plt.ylabel('Accuracy')\r\n",
                "plt.ylim([0.1, 1])\r\n",
                "plt.legend(loc='lower right')"
            ],
            "outputs": [
                {
                    "output_type": "execute_result",
                    "data": {
                        "text/plain": [
                            "<matplotlib.legend.Legend at 0x1649f90ea30>"
                        ]
                    },
                    "metadata": {},
                    "execution_count": 217
                },
                {
                    "output_type": "display_data",
                    "data": {
                        "text/plain": [
                            "<Figure size 432x288 with 1 Axes>"
                        ],
                        "image/png": "[encoded data removed]"
                    },
                    "metadata": {
                        "needs_background": "light"
                    }
                }
            ],
            "metadata": {}
        },
        {
            "cell_type": "code",
            "execution_count": 192,
            "source": [
                "model.compile(optimizer='adam',\r\n",
                "              loss=tf.keras.losses.CategoricalCrossentropy(from_logits=True),\r\n",
                "              metrics=['accuracy'])\r\n",
                "test_eval = model.evaluate(np.array(featurespace_x_test_final),np.array(y_test),verbose=1)"
            ],
            "outputs": [
                {
                    "output_type": "stream",
                    "name": "stdout",
                    "text": [
                        "70/70 [==============================] - 1s 6ms/step - loss: 2.2807 - accuracy: 0.4008\n"
                    ]
                }
            ],
            "metadata": {}
        },
        {
            "cell_type": "code",
            "execution_count": 208,
            "source": [
                "predicted_classes = model.predict(featurespace_x_test_final)\r\n",
                "predicted_classes = np.argmax(np.round(predicted_classes),axis=1)\r\n",
                "y_test_final = np.argmax(np.round(y_test),axis=1)\r\n",
                "f1_score(y_test_final, predicted_classes,average='macro')"
            ],
            "outputs": [
                {
                    "output_type": "execute_result",
                    "data": {
                        "text/plain": [
                            "0.3701431364517073"
                        ]
                    },
                    "metadata": {},
                    "execution_count": 208
                }
            ],
            "metadata": {}
        },
        {
            "cell_type": "code",
            "execution_count": 214,
            "source": [
                "x_testcnn=np.array(featurespace_x_test_final).reshape(len(featurespace_x_test_final),199,2)\r\n",
                "y_pred = model.predict(x_testcnn)\r\n",
                "matrix = confusion_matrix(np.array(y_test).argmax(axis=1), y_pred.argmax(axis=1))\r\n",
                "ax = sn.heatmap(matrix, annot=True, fmt=\"d\", cmap = 'rocket_r', xticklabels = [ 'Sadness','Anger', 'Disgust', 'Fear', 'Happiness', 'Neutral'], yticklabels = ['Sadness','Anger', 'Disgust', 'Fear', 'Happiness', 'Neutral'])"
            ],
            "outputs": [
                {
                    "output_type": "display_data",
                    "data": {
                        "text/plain": [
                            "<Figure size 432x288 with 2 Axes>"
                        ],
                        "image/png": "[encoded data removed]"
                    },
                    "metadata": {
                        "needs_background": "light"
                    }
                }
            ],
            "metadata": {}
        },
        {
            "cell_type": "code",
            "execution_count": 226,
            "source": [
                "specs_x_test =np.array(specs_x_test).reshape(2233,128, 128,1)\r\n",
                "model2D.compile(optimizer='adam',\r\n",
                "              loss=tf.keras.losses.CategoricalCrossentropy(from_logits=True),\r\n",
                "              metrics=['accuracy'])\r\n",
                "test_eval2D = model2D.evaluate(np.array(specs_x_test),np.array(y_test),verbose=1)"
            ],
            "outputs": [
                {
                    "output_type": "stream",
                    "name": "stderr",
                    "text": [
                        "C:\\Users\\YAHYA IHAB\\AppData\\Local\\Packages\\PythonSoftwareFoundation.Python.3.9_qbz5n2kfra8p0\\LocalCache\\local-packages\\Python39\\site-packages\\tensorflow\\python\\keras\\backend.py:4869: UserWarning: \"`categorical_crossentropy` received `from_logits=True`, but the `output` argument was produced by a sigmoid or softmax activation and thus does not represent logits. Was this intended?\"\n",
                        "  warnings.warn(\n"
                    ]
                },
                {
                    "output_type": "stream",
                    "name": "stdout",
                    "text": [
                        "70/70 [==============================] - 6s 86ms/step - loss: 4.6242 - accuracy: 0.4751\n"
                    ]
                }
            ],
            "metadata": {}
        },
        {
            "cell_type": "code",
            "execution_count": 227,
            "source": [
                "predicted_classes2D = model2D.predict(specs_x_test)\r\n",
                "predicted_classes2D = np.argmax(np.round(predicted_classes2D),axis=1)\r\n",
                "y_test_final2D = np.argmax(np.round(y_test),axis=1)\r\n",
                "f1_score(y_test_final2D, predicted_classes2D,average='macro')"
            ],
            "outputs": [
                {
                    "output_type": "execute_result",
                    "data": {
                        "text/plain": [
                            "0.4509914511275676"
                        ]
                    },
                    "metadata": {},
                    "execution_count": 227
                }
            ],
            "metadata": {}
        },
        {
            "cell_type": "code",
            "execution_count": 229,
            "source": [
                "x_testcnn2D=np.array(specs_x_test).reshape(len(specs_x_test),128,128,1)\r\n",
                "y_pred2D = model2D.predict(x_testcnn2D)\r\n",
                "matrix2D = confusion_matrix(np.array(y_test).argmax(axis=1), y_pred2D.argmax(axis=1))\r\n",
                "ax2D = sn.heatmap(matrix2D, annot=True, fmt=\"d\", cmap = 'rocket_r', xticklabels = [ 'Sadness','Anger', 'Disgust', 'Fear', 'Happiness', 'Neutral'], yticklabels = ['Sadness','Anger', 'Disgust', 'Fear', 'Happiness', 'Neutral'])"
            ],
            "outputs": [
                {
                    "output_type": "display_data",
                    "data": {
                        "text/plain": [
                            "<Figure size 432x288 with 2 Axes>"
                        ],
                        "image/png": "[encoded data removed]"
                    },
                    "metadata": {
                        "needs_background": "light"
                    }
                }
            ],
            "metadata": {}
        }
    ],
    "metadata": {
        "orig_nbformat": 4,
        "language_info": {
            "name": "python"
        }
    },
    "nbformat": 4,
    "nbformat_minor": 2
}